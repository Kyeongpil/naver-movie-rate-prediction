{
 "cells": [
  {
   "cell_type": "code",
   "execution_count": 1,
   "metadata": {
    "ExecuteTime": {
     "end_time": "2017-10-08T06:29:55.374168Z",
     "start_time": "2017-10-08T06:29:54.552097Z"
    },
    "collapsed": true
   },
   "outputs": [],
   "source": [
    "from konlpy.tag import Twitter\n",
    "from sklearn.preprocessing import normalize\n",
    "from sklearn.metrics import mean_absolute_error\n",
    "from sklearn.linear_model import LinearRegression\n",
    "from sklearn.linear_model import Ridge\n",
    "from sklearn.ensemble import GradientBoostingRegressor\n",
    "import numpy as np\n",
    "import pickle\n",
    "\n",
    "twitter = Twitter()"
   ]
  },
  {
   "cell_type": "code",
   "execution_count": 2,
   "metadata": {
    "ExecuteTime": {
     "end_time": "2017-10-08T06:29:56.470786Z",
     "start_time": "2017-10-08T06:29:56.028599Z"
    },
    "collapsed": true
   },
   "outputs": [],
   "source": [
    "with open(\"data_ml.pkl\", \"rb\") as f:\n",
    "    index2voca = pickle.load(f)\n",
    "    voca2index = pickle.load(f)\n",
    "    train_X = pickle.load(f)\n",
    "    train_y = pickle.load(f)\n",
    "    test_X = pickle.load(f)\n",
    "    test_y = pickle.load(f)\n",
    "\n",
    "train_X = normalize(train_X)\n",
    "test_X = normalize(test_X)\n",
    "\n",
    "vocaNum = len(index2voca)\n",
    "trainNum = len(train_y)\n",
    "testNum = len(test_y)"
   ]
  },
  {
   "cell_type": "code",
   "execution_count": 4,
   "metadata": {
    "ExecuteTime": {
     "end_time": "2017-10-08T06:30:56.579324Z",
     "start_time": "2017-10-08T06:30:09.463769Z"
    }
   },
   "outputs": [
    {
     "data": {
      "text/plain": [
       "LinearRegression(copy_X=True, fit_intercept=True, n_jobs=4, normalize=False)"
      ]
     },
     "execution_count": 4,
     "metadata": {},
     "output_type": "execute_result"
    }
   ],
   "source": [
    "# 약 1분\n",
    "linear_regression = LinearRegression(n_jobs=4)\n",
    "linear_regression.fit(train_X, train_y)"
   ]
  },
  {
   "cell_type": "code",
   "execution_count": 5,
   "metadata": {
    "ExecuteTime": {
     "end_time": "2017-10-08T06:30:57.363978Z",
     "start_time": "2017-10-08T06:30:56.581361Z"
    }
   },
   "outputs": [
    {
     "name": "stdout",
     "output_type": "stream",
     "text": [
      "mean absolute error: 0.18074595120515435\n",
      "predict: [ 0.2523849]\n"
     ]
    }
   ],
   "source": [
    "predicted = linear_regression.predict(test_X)\n",
    "print(\"mean absolute error: {}\".format(mean_absolute_error(test_y, predicted)))\n",
    "\n",
    "test_seq = \"이 영화 진짜 재미없다.\"\n",
    "test_vec = np.zeros((1, vocaNum))\n",
    "for i, w in enumerate(twitter.morphs(test_seq)):\n",
    "    test_vec[0, voca2index.get(w, voca2index['<UNK>'])] += 1\n",
    "\n",
    "test_vec = normalize(test_vec)\n",
    "print(\"predict: {}\".format(linear_regression.predict(test_vec)))"
   ]
  },
  {
   "cell_type": "code",
   "execution_count": 6,
   "metadata": {
    "ExecuteTime": {
     "end_time": "2017-10-08T06:31:02.528827Z",
     "start_time": "2017-10-08T06:30:57.365876Z"
    }
   },
   "outputs": [
    {
     "name": "stdout",
     "output_type": "stream",
     "text": [
      "mean absolute error: 0.17737036058878175\n",
      "predict: [ 0.29025968]\n"
     ]
    }
   ],
   "source": [
    "ridge = Ridge()\n",
    "ridge.fit(train_X, train_y)\n",
    "predicted = ridge.predict(test_X)\n",
    "print(\"mean absolute error: {}\".format(mean_absolute_error(test_y, predicted)))\n",
    "\n",
    "test_seq = \"이 영화 완전 재미없다.\"\n",
    "test_vec = np.zeros((1, vocaNum))\n",
    "for i, w in enumerate(twitter.morphs(test_seq)):\n",
    "    test_vec[0, voca2index.get(w, voca2index['<UNK>'])] += 1\n",
    "\n",
    "test_vec = normalize(test_vec)\n",
    "print(\"predict: {}\".format(ridge.predict(test_vec)))"
   ]
  },
  {
   "cell_type": "code",
   "execution_count": 7,
   "metadata": {
    "ExecuteTime": {
     "end_time": "2017-10-08T06:32:00.080521Z",
     "start_time": "2017-10-08T06:32:00.074734Z"
    },
    "collapsed": true
   },
   "outputs": [],
   "source": [
    "with open(\"ridge_regression.pkl\", 'wb') as f:\n",
    "    pickle.dump(ridge, f)"
   ]
  },
  {
   "cell_type": "code",
   "execution_count": 9,
   "metadata": {
    "ExecuteTime": {
     "end_time": "2017-10-07T13:26:57.755891Z",
     "start_time": "2017-10-07T13:25:08.191283Z"
    }
   },
   "outputs": [
    {
     "data": {
      "text/plain": [
       "0.23622348383675829"
      ]
     },
     "execution_count": 9,
     "metadata": {},
     "output_type": "execute_result"
    }
   ],
   "source": [
    "# 약 2분\n",
    "gb = GradientBoostingRegressor()\n",
    "gb.fit(train_X, train_y)\n",
    "predicted = gb.predict(test_X)\n",
    "mean_absolute_error(test_y, predicted)"
   ]
  },
  {
   "cell_type": "code",
   "execution_count": null,
   "metadata": {
    "collapsed": true
   },
   "outputs": [],
   "source": []
  }
 ],
 "metadata": {
  "kernelspec": {
   "display_name": "Python 3",
   "language": "python",
   "name": "python3"
  },
  "language_info": {
   "codemirror_mode": {
    "name": "ipython",
    "version": 3
   },
   "file_extension": ".py",
   "mimetype": "text/x-python",
   "name": "python",
   "nbconvert_exporter": "python",
   "pygments_lexer": "ipython3",
   "version": "3.6.2"
  }
 },
 "nbformat": 4,
 "nbformat_minor": 2
}
