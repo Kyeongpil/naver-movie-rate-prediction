{
 "cells": [
  {
   "cell_type": "code",
   "execution_count": 72,
   "metadata": {
    "ExecuteTime": {
     "end_time": "2017-10-07T12:58:38.878394Z",
     "start_time": "2017-10-07T12:58:38.870792Z"
    },
    "collapsed": true
   },
   "outputs": [],
   "source": [
    "from konlpy.tag import Twitter\n",
    "from ipywidgets import FloatProgress\n",
    "from IPython.display import display\n",
    "from torch.autograd import Variable\n",
    "from torch import nn\n",
    "from torch.nn import functional as F\n",
    "from torch.utils.data import TensorDataset\n",
    "from torch.utils.data import DataLoader\n",
    "import pickle\n",
    "import torch\n",
    "\n",
    "twitter = Twitter()"
   ]
  },
  {
   "cell_type": "code",
   "execution_count": 73,
   "metadata": {
    "ExecuteTime": {
     "end_time": "2017-10-07T12:58:39.394087Z",
     "start_time": "2017-10-07T12:58:39.286164Z"
    }
   },
   "outputs": [
    {
     "name": "stdout",
     "output_type": "stream",
     "text": [
      "num_iter: 7871\n"
     ]
    }
   ],
   "source": [
    "with open(\"data_deep.pkl\", \"rb\") as f:\n",
    "    index2voca = pickle.load(f)\n",
    "    voca2index = pickle.load(f)\n",
    "    train_X = pickle.load(f)\n",
    "    train_y = pickle.load(f)\n",
    "    test_X = pickle.load(f)\n",
    "    test_y = pickle.load(f)\n",
    "\n",
    "vocaNum = len(index2voca)\n",
    "trainNum = len(train_y)\n",
    "testNum = len(test_y)\n",
    "\n",
    "embedding_dim = 200\n",
    "epoch = 10\n",
    "batch_size = 32\n",
    "num_iter = int(trainNum/batch_size)\n",
    "print_iter = 2000\n",
    "print(f\"num_iter: {num_iter}\")"
   ]
  },
  {
   "cell_type": "code",
   "execution_count": 74,
   "metadata": {
    "ExecuteTime": {
     "end_time": "2017-10-07T12:58:39.960521Z",
     "start_time": "2017-10-07T12:58:39.876909Z"
    },
    "collapsed": true
   },
   "outputs": [],
   "source": [
    "train_X = torch.from_numpy(train_X).long()\n",
    "train_y = torch.from_numpy(train_y).view(-1, 1)\n",
    "test_X = torch.from_numpy(test_X).long()\n",
    "test_y = torch.from_numpy(test_y).view(-1, 1)\n",
    "\n",
    "train = TensorDataset(train_X, train_y)\n",
    "train_loader = DataLoader(train, batch_size=batch_size, shuffle=True, num_workers=1)\n",
    "test = TensorDataset(test_X, test_y)\n",
    "test_loader = DataLoader(test, batch_size=batch_size, shuffle=True)"
   ]
  },
  {
   "cell_type": "code",
   "execution_count": 92,
   "metadata": {
    "ExecuteTime": {
     "end_time": "2017-10-07T14:01:56.556811Z",
     "start_time": "2017-10-07T14:01:56.523782Z"
    },
    "collapsed": true
   },
   "outputs": [],
   "source": [
    "class CNNReg(nn.Module):\n",
    "    def __init__(self):\n",
    "        super(CNNReg, self).__init__()\n",
    "        self.kernel_size = [2,3,4]\n",
    "        self.channel_out = 40\n",
    "        self.embedding = nn.Embedding(vocaNum, embedding_dim, padding_idx=0)\n",
    "        self.conv1 = nn.ModuleList([nn.Conv2d(1, self.channel_out, (k, embedding_dim)) \n",
    "                      for k in self.kernel_size])\n",
    "        self.linear1 = nn.Linear(self.channel_out*len(self.kernel_size),10)\n",
    "        self.linear2 = nn.Linear(10,1)\n",
    "        self.dropout = nn.Dropout()\n",
    "        \n",
    "    def forward(self, x):\n",
    "        embed = self.embedding(x)  # (N, W, D)\n",
    "        embed = embed.unsqueeze(1) # (N,1,W,D), 1: channel_in\n",
    "        \n",
    "        #[(N,Channel_out,W,1), ...] * len(Kernel_size)\n",
    "        feature_maps = [F.leaky_relu(conv(embed)) for conv in self.conv1]\n",
    "        #[(N,Channel_out,W), ...] * len(Kernel_size)\n",
    "        feature_maps = [feature_map.squeeze(3) for feature_map in feature_maps]\n",
    "        \n",
    "        #[(N, Channel_out), ...] * len(Kernel_size)\n",
    "        pooled_output = [F.max_pool1d(feature_map, feature_map.size(2)) for feature_map in feature_maps]\n",
    "        output = torch.cat(pooled_output, 1)\n",
    "        output = output.view(output.size(0),-1)\n",
    "        output = self.dropout(output)\n",
    "        output = F.relu(self.linear1(output))\n",
    "        output = self.dropout(output)\n",
    "        output = self.linear2(output)\n",
    "        return output"
   ]
  },
  {
   "cell_type": "code",
   "execution_count": 105,
   "metadata": {
    "ExecuteTime": {
     "end_time": "2017-10-07T18:45:15.772352Z",
     "start_time": "2017-10-07T18:45:15.404533Z"
    }
   },
   "outputs": [
    {
     "name": "stdout",
     "output_type": "stream",
     "text": [
      "CNNReg (\n",
      "  (embedding): Embedding(20000, 200, padding_idx=0)\n",
      "  (conv1): ModuleList (\n",
      "    (0): Conv2d(1, 40, kernel_size=(2, 200), stride=(1, 1))\n",
      "    (1): Conv2d(1, 40, kernel_size=(3, 200), stride=(1, 1))\n",
      "    (2): Conv2d(1, 40, kernel_size=(4, 200), stride=(1, 1))\n",
      "  )\n",
      "  (linear1): Linear (120 -> 10)\n",
      "  (linear2): Linear (10 -> 1)\n",
      "  (dropout): Dropout (p = 0.5)\n",
      ")\n"
     ]
    }
   ],
   "source": [
    "reg = CNNReg()\n",
    "reg.cuda()\n",
    "print(reg)\n",
    "\n",
    "criterion = nn.MSELoss()\n",
    "opt = torch.optim.Adam(reg.parameters())"
   ]
  },
  {
   "cell_type": "code",
   "execution_count": 106,
   "metadata": {
    "ExecuteTime": {
     "end_time": "2017-10-07T18:59:10.163430Z",
     "start_time": "2017-10-07T18:45:16.029102Z"
    },
    "scrolled": true
   },
   "outputs": [
    {
     "data": {
      "application/vnd.jupyter.widget-view+json": {
       "model_id": "354d82225a564e67868e6e619d90a87d"
      }
     },
     "metadata": {},
     "output_type": "display_data"
    },
    {
     "name": "stdout",
     "output_type": "stream",
     "text": [
      "batch: 0, iteration: 0, loss: 0.4432888925075531\n",
      "\n",
      "batch: 0, iteration: 1966, loss: 0.07227648794651031\n",
      "\n",
      "batch: 0, iteration: 2000, loss: 0.09388615190982819\n",
      "\n",
      "batch: 0, iteration: 4000, loss: 0.09402982890605927\n",
      "\n",
      "batch: 0, iteration: 6000, loss: 0.07421964406967163\n",
      "\n",
      "batch: 1, iteration: 0, loss: 0.05551400035619736\n",
      "\n",
      "batch: 1, iteration: 1966, loss: 0.04893426597118378\n",
      "\n",
      "batch: 1, iteration: 2000, loss: 0.06420593708753586\n",
      "\n",
      "batch: 1, iteration: 4000, loss: 0.046432457864284515\n",
      "\n",
      "batch: 1, iteration: 6000, loss: 0.05991499871015549\n",
      "\n",
      "batch: 2, iteration: 0, loss: 0.05646321177482605\n",
      "\n",
      "batch: 2, iteration: 1966, loss: 0.0607387013733387\n",
      "\n",
      "batch: 2, iteration: 2000, loss: 0.06622529774904251\n",
      "\n",
      "batch: 2, iteration: 4000, loss: 0.0574762262403965\n",
      "\n",
      "batch: 2, iteration: 6000, loss: 0.041344985365867615\n",
      "\n",
      "batch: 3, iteration: 0, loss: 0.07712280750274658\n",
      "\n",
      "batch: 3, iteration: 1966, loss: 0.04107488691806793\n",
      "\n",
      "batch: 3, iteration: 2000, loss: 0.05508921295404434\n",
      "\n",
      "batch: 3, iteration: 4000, loss: 0.03754213824868202\n",
      "\n",
      "batch: 3, iteration: 6000, loss: 0.0489627867937088\n",
      "\n",
      "batch: 4, iteration: 0, loss: 0.049817297607660294\n",
      "\n",
      "batch: 4, iteration: 1966, loss: 0.047488629817962646\n",
      "\n",
      "batch: 4, iteration: 2000, loss: 0.06912246346473694\n",
      "\n",
      "batch: 4, iteration: 4000, loss: 0.0410795658826828\n",
      "\n",
      "batch: 4, iteration: 6000, loss: 0.0325913280248642\n",
      "\n",
      "batch: 5, iteration: 0, loss: 0.058845482766628265\n",
      "\n",
      "batch: 5, iteration: 1966, loss: 0.056200020015239716\n",
      "\n",
      "batch: 5, iteration: 2000, loss: 0.05219828337430954\n",
      "\n",
      "batch: 5, iteration: 4000, loss: 0.05853700637817383\n",
      "\n",
      "batch: 5, iteration: 6000, loss: 0.05954809859395027\n",
      "\n",
      "batch: 6, iteration: 0, loss: 0.04798782244324684\n",
      "\n",
      "batch: 6, iteration: 1966, loss: 0.04950942099094391\n",
      "\n",
      "batch: 6, iteration: 2000, loss: 0.05077958479523659\n",
      "\n",
      "batch: 6, iteration: 4000, loss: 0.04585494101047516\n",
      "\n",
      "batch: 6, iteration: 6000, loss: 0.04941623657941818\n",
      "\n",
      "batch: 7, iteration: 0, loss: 0.06246912479400635\n",
      "\n",
      "batch: 7, iteration: 1966, loss: 0.05196336656808853\n",
      "\n",
      "batch: 7, iteration: 2000, loss: 0.02305694669485092\n",
      "\n",
      "batch: 7, iteration: 4000, loss: 0.051919251680374146\n",
      "\n",
      "batch: 7, iteration: 6000, loss: 0.05635597184300423\n",
      "\n",
      "batch: 8, iteration: 0, loss: 0.03511902689933777\n",
      "\n",
      "batch: 8, iteration: 1966, loss: 0.03578203544020653\n",
      "\n",
      "batch: 8, iteration: 2000, loss: 0.05423425883054733\n",
      "\n",
      "batch: 8, iteration: 4000, loss: 0.06576240807771683\n",
      "\n",
      "batch: 8, iteration: 6000, loss: 0.05197067931294441\n",
      "\n",
      "batch: 9, iteration: 0, loss: 0.04262649640440941\n",
      "\n",
      "batch: 9, iteration: 1966, loss: 0.044574037194252014\n",
      "\n",
      "batch: 9, iteration: 2000, loss: 0.05231844633817673\n",
      "\n",
      "batch: 9, iteration: 4000, loss: 0.05409901961684227\n",
      "\n",
      "batch: 9, iteration: 6000, loss: 0.05133231356739998\n",
      "\n"
     ]
    }
   ],
   "source": [
    "f = FloatProgress(min=0, max=print_iter)\n",
    "display(f)\n",
    "for e in range(epoch):\n",
    "    for i, (batch_X, batch_y) in enumerate(train_loader):\n",
    "        f.value += 1\n",
    "        \n",
    "        batch_X = Variable(batch_X).cuda()\n",
    "        batch_y = batch_y\n",
    "        batch_y = Variable(batch_y).cuda()\n",
    "        predict = reg(batch_X)\n",
    "        \n",
    "        opt.zero_grad()\n",
    "        loss = criterion(predict, batch_y)\n",
    "        loss.backward()\n",
    "        opt.step()\n",
    "        \n",
    "        if i%print_iter == 0 or i==num_iter-1:\n",
    "            f.value=0\n",
    "            print(\"batch: {}, iteration: {}, loss: {}\\n\".format(e, i, loss.data.mean()))"
   ]
  },
  {
   "cell_type": "code",
   "execution_count": 107,
   "metadata": {
    "ExecuteTime": {
     "end_time": "2017-10-07T18:59:34.018536Z",
     "start_time": "2017-10-07T18:59:25.858875Z"
    }
   },
   "outputs": [
    {
     "data": {
      "application/vnd.jupyter.widget-view+json": {
       "model_id": "685fffe333294b8c85066b17faa79387"
      }
     },
     "metadata": {},
     "output_type": "display_data"
    },
    {
     "name": "stdout",
     "output_type": "stream",
     "text": [
      "test error(MAE): 0.17213349469312872\n"
     ]
    }
   ],
   "source": [
    "reg.eval()\n",
    "criterion = nn.L1Loss()\n",
    "num_iter = int(testNum/batch_size)\n",
    "f = FloatProgress(min=0, max=num_iter)\n",
    "display(f)\n",
    "average_loss = 0\n",
    "for i, (batch_X, batch_y) in enumerate(test_loader):\n",
    "    f.value += 1\n",
    "    \n",
    "    batch_X = Variable(batch_X).cuda()\n",
    "    batch_y = Variable(batch_y).cuda()\n",
    "    predict = reg(batch_X)\n",
    "    loss = criterion(predict, batch_y)\n",
    "    average_loss += loss.data.mean()\n",
    "\n",
    "average_loss /= num_iter\n",
    "print(\"test error(MAE): {}\".format(average_loss))\n",
    "# test error(MAE): 0.17213349469312872"
   ]
  },
  {
   "cell_type": "code",
   "execution_count": 108,
   "metadata": {
    "ExecuteTime": {
     "end_time": "2017-10-07T18:59:49.115841Z",
     "start_time": "2017-10-07T18:59:49.074121Z"
    },
    "collapsed": true
   },
   "outputs": [],
   "source": [
    "torch.save(reg.state_dict(), 'cnn_regression.pkl')"
   ]
  },
  {
   "cell_type": "code",
   "execution_count": 5,
   "metadata": {
    "ExecuteTime": {
     "end_time": "2017-10-06T14:22:07.839162Z",
     "start_time": "2017-10-06T14:22:04.924038Z"
    },
    "collapsed": true,
    "scrolled": true
   },
   "outputs": [],
   "source": [
    "reg = CNNReg()\n",
    "reg.load_state_dict(torch.load(\"cnn_regression.pkl\"))"
   ]
  },
  {
   "cell_type": "code",
   "execution_count": 109,
   "metadata": {
    "ExecuteTime": {
     "end_time": "2017-10-07T18:59:51.320120Z",
     "start_time": "2017-10-07T18:59:51.244724Z"
    }
   },
   "outputs": [
    {
     "name": "stdout",
     "output_type": "stream",
     "text": [
      "predicted: 0.4701908230781555\n"
     ]
    }
   ],
   "source": [
    "reg.eval()\n",
    "test_seq = u\"팝콘 소리 때문에 집중이 안됐다 ㅡㅡ\"\n",
    "test_vec = torch.zeros(1, train_X.shape[1]).long()\n",
    "for i, w in enumerate(twitter.morphs(test_seq)):\n",
    "    test_vec[0, i] = voca2index.get(w, voca2index['<UNK>'])\n",
    "\n",
    "test_vec = Variable(test_vec).cuda()\n",
    "predict = reg(test_vec)\n",
    "print(\"predicted: {}\".format(predict.data.tolist()[0][0]))"
   ]
  },
  {
   "cell_type": "code",
   "execution_count": null,
   "metadata": {
    "collapsed": true
   },
   "outputs": [],
   "source": []
  }
 ],
 "metadata": {
  "anaconda-cloud": {},
  "kernelspec": {
   "display_name": "Python 3",
   "language": "python",
   "name": "python3"
  },
  "language_info": {
   "codemirror_mode": {
    "name": "ipython",
    "version": 3
   },
   "file_extension": ".py",
   "mimetype": "text/x-python",
   "name": "python",
   "nbconvert_exporter": "python",
   "pygments_lexer": "ipython3",
   "version": "3.6.2"
  },
  "varInspector": {
   "cols": {
    "lenName": 16,
    "lenType": 16,
    "lenVar": 40
   },
   "kernels_config": {
    "python": {
     "delete_cmd_postfix": "",
     "delete_cmd_prefix": "del ",
     "library": "var_list.py",
     "varRefreshCmd": "print(var_dic_list())"
    },
    "r": {
     "delete_cmd_postfix": ") ",
     "delete_cmd_prefix": "rm(",
     "library": "var_list.r",
     "varRefreshCmd": "cat(var_dic_list()) "
    }
   },
   "types_to_exclude": [
    "module",
    "function",
    "builtin_function_or_method",
    "instance",
    "_Feature"
   ],
   "window_display": false
  },
  "widgets": {
   "state": {
    "3ad60a12bb044a05bc3d6ac485301381": {
     "views": [
      {
       "cell_index": 5
      }
     ]
    },
    "db7d13dba8da49ccae679120f3abb72f": {
     "views": [
      {
       "cell_index": 6
      }
     ]
    }
   },
   "version": "1.2.0"
  }
 },
 "nbformat": 4,
 "nbformat_minor": 1
}
