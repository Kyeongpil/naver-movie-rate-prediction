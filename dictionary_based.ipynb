{
 "cells": [
  {
   "cell_type": "code",
   "execution_count": 25,
   "metadata": {
    "ExecuteTime": {
     "end_time": "2017-10-08T06:23:56.642005Z",
     "start_time": "2017-10-08T06:23:56.636208Z"
    },
    "collapsed": true
   },
   "outputs": [],
   "source": [
    "from konlpy.tag import Twitter\n",
    "from sklearn.metrics import mean_absolute_error\n",
    "import numpy as np\n",
    "import pickle\n",
    "\n",
    "twitter = Twitter()"
   ]
  },
  {
   "cell_type": "code",
   "execution_count": 26,
   "metadata": {
    "ExecuteTime": {
     "end_time": "2017-10-08T06:23:57.127387Z",
     "start_time": "2017-10-08T06:23:57.053714Z"
    },
    "collapsed": true
   },
   "outputs": [],
   "source": [
    "with open(\"data_ml.pkl\", \"rb\") as f:\n",
    "    index2voca = pickle.load(f)\n",
    "    voca2index = pickle.load(f)\n",
    "    train_X = pickle.load(f)\n",
    "    train_y = pickle.load(f)\n",
    "    test_X = pickle.load(f)\n",
    "    test_y = pickle.load(f)\n",
    "\n",
    "vocaNum = len(index2voca)\n",
    "trainNum = len(train_y)\n",
    "testNum = len(test_y)"
   ]
  },
  {
   "cell_type": "code",
   "execution_count": 27,
   "metadata": {
    "ExecuteTime": {
     "end_time": "2017-10-08T06:23:57.640098Z",
     "start_time": "2017-10-08T06:23:57.612316Z"
    },
    "collapsed": true
   },
   "outputs": [],
   "source": [
    "class dict_based():\n",
    "    def __init__(self, voca2index):\n",
    "        self.voca2index = voca2index\n",
    "        self.vocaNum = len(self.voca2index)\n",
    "        self.sentiment_dict = None\n",
    "        \n",
    "    def fit(self, train_X, train_y):\n",
    "        self.sentiment_dict = np.zeros(self.vocaNum)\n",
    "        word_freq = np.zeros(self.vocaNum)\n",
    "        for i,j in zip(*train_X.nonzero()):\n",
    "            self.sentiment_dict[j] += train_y[i]\n",
    "            word_freq[j] += 1\n",
    "        \n",
    "        self.sentiment_dict = np.divide(self.sentiment_dict, word_freq)\n",
    "            \n",
    "    def predict(self, test_input):\n",
    "        if type(test_input) == str:\n",
    "            test_vec = np.zeros((1, self.vocaNum))\n",
    "            for i, w in enumerate(twitter.morphs(test_seq)):\n",
    "                test_vec[0, voca2index.get(w, voca2index['<UNK>'])] += 1\n",
    "\n",
    "            return np.divide(test_vec.dot(sentiment_dict), test_vec.sum(axis=1).T)[0]\n",
    "        else:\n",
    "            return np.divide(test_input.dot(self.sentiment_dict), test_input.sum(axis=1).T).T"
   ]
  },
  {
   "cell_type": "code",
   "execution_count": 28,
   "metadata": {
    "ExecuteTime": {
     "end_time": "2017-10-08T06:24:03.534628Z",
     "start_time": "2017-10-08T06:23:58.768353Z"
    },
    "collapsed": true
   },
   "outputs": [],
   "source": [
    "model = dict_based(voca2index)\n",
    "model.fit(train_X, train_y)"
   ]
  },
  {
   "cell_type": "code",
   "execution_count": 29,
   "metadata": {
    "ExecuteTime": {
     "end_time": "2017-10-08T06:24:14.280706Z",
     "start_time": "2017-10-08T06:24:14.259719Z"
    }
   },
   "outputs": [
    {
     "data": {
      "text/plain": [
       "0.24832614987235874"
      ]
     },
     "execution_count": 29,
     "metadata": {},
     "output_type": "execute_result"
    }
   ],
   "source": [
    "predicted = model.predict(test_X)\n",
    "mean_absolute_error(test_y, predicted)"
   ]
  },
  {
   "cell_type": "code",
   "execution_count": 34,
   "metadata": {
    "ExecuteTime": {
     "end_time": "2017-10-08T06:25:47.776679Z",
     "start_time": "2017-10-08T06:25:47.762818Z"
    }
   },
   "outputs": [
    {
     "name": "stdout",
     "output_type": "stream",
     "text": [
      "0.414977801304\n"
     ]
    }
   ],
   "source": [
    "test_seq = \"영화 재미없다\"\n",
    "predicted = model.predict(test_seq)\n",
    "print(predicted)"
   ]
  },
  {
   "cell_type": "code",
   "execution_count": 31,
   "metadata": {
    "ExecuteTime": {
     "end_time": "2017-10-08T06:24:49.715761Z",
     "start_time": "2017-10-08T06:24:49.700566Z"
    },
    "collapsed": true
   },
   "outputs": [],
   "source": [
    "with open(\"dict_based.pkl\", 'wb') as f:\n",
    "    pickle.dump(model, f)"
   ]
  },
  {
   "cell_type": "code",
   "execution_count": null,
   "metadata": {
    "collapsed": true
   },
   "outputs": [],
   "source": []
  }
 ],
 "metadata": {
  "kernelspec": {
   "display_name": "Python 3",
   "language": "python",
   "name": "python3"
  },
  "language_info": {
   "codemirror_mode": {
    "name": "ipython",
    "version": 3
   },
   "file_extension": ".py",
   "mimetype": "text/x-python",
   "name": "python",
   "nbconvert_exporter": "python",
   "pygments_lexer": "ipython3",
   "version": "3.6.2"
  }
 },
 "nbformat": 4,
 "nbformat_minor": 2
}
